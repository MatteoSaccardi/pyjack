{
 "cells": [
  {
   "cell_type": "code",
   "execution_count": 1,
   "id": "34367d09",
   "metadata": {},
   "outputs": [],
   "source": [
    "import pyjack\n",
    "import numpy"
   ]
  },
  {
   "cell_type": "code",
   "execution_count": null,
   "id": "9a9eb98f",
   "metadata": {},
   "outputs": [
    {
     "name": "stdout",
     "output_type": "stream",
     "text": [
      "pyjack(0.02(10), 0.06(10), 0.049(95), -0.02(10), -0.08(10), -0.030(84), 0.134(95), 0.022(98), 0.101(97), -0.09(10), description=My Observable)\n"
     ]
    }
   ],
   "source": [
    "my_data = numpy.random.randn(100,10)*0.3+4\n",
    "\n",
    "obs = pyjack.observable(description='My Observable')\n",
    "obs.create(my_data)\n",
    "print(obs)"
   ]
  },
  {
   "cell_type": "code",
   "execution_count": 5,
   "id": "8e3f8085",
   "metadata": {},
   "outputs": [
    {
     "data": {
      "text/plain": [
       "pyjack(1.02(10), 1.06(11), 1.051(99), 0.98(10), 0.925(97), 0.970(81), 1.14(10), 1.02(10), 1.11(10), 0.913(99), description=My Observable)"
      ]
     },
     "execution_count": 5,
     "metadata": {},
     "output_type": "execute_result"
    }
   ],
   "source": [
    "obs.exp(obs)"
   ]
  },
  {
   "cell_type": "code",
   "execution_count": 3,
   "id": "dd5a47fa",
   "metadata": {},
   "outputs": [
    {
     "ename": "AttributeError",
     "evalue": "module 'pyjack' has no attribute 'exp'",
     "output_type": "error",
     "traceback": [
      "\u001b[0;31m---------------------------------------------------------------------------\u001b[0m",
      "\u001b[0;31mAttributeError\u001b[0m                            Traceback (most recent call last)",
      "Cell \u001b[0;32mIn[3], line 4\u001b[0m\n\u001b[1;32m      1\u001b[0m \u001b[38;5;66;03m# Arithmetic operations casted for observables\u001b[39;00m\n\u001b[1;32m      3\u001b[0m squared \u001b[38;5;241m=\u001b[39m obs \u001b[38;5;241m*\u001b[39m\u001b[38;5;241m*\u001b[39m \u001b[38;5;241m2\u001b[39m\n\u001b[0;32m----> 4\u001b[0m exponential \u001b[38;5;241m=\u001b[39m \u001b[43mpyjack\u001b[49m\u001b[38;5;241;43m.\u001b[39;49m\u001b[43mexp\u001b[49m(obs)\n\u001b[1;32m      6\u001b[0m \u001b[38;5;28mprint\u001b[39m(squared)\n\u001b[1;32m      7\u001b[0m \u001b[38;5;28mprint\u001b[39m(exponential)\n",
      "\u001b[0;31mAttributeError\u001b[0m: module 'pyjack' has no attribute 'exp'"
     ]
    }
   ],
   "source": [
    "# Arithmetic operations casted for observables\n",
    "\n",
    "squared = obs ** 2\n",
    "exponential = pyjack.exp(obs)\n",
    "\n",
    "print(squared)\n",
    "print(exponential)"
   ]
  },
  {
   "cell_type": "code",
   "execution_count": null,
   "id": "02faeeba",
   "metadata": {},
   "outputs": [],
   "source": [
    "\n",
    "# Possibility to perform fits\n",
    "\n",
    "import matplotlib.pyplot as plt\n",
    "data = numpy.random.randn(100,10)*0.3+4\n",
    "obs = pyjack.observable()\n",
    "obs.create(data)\n",
    "fitfunc = 'params0+params1*x'\n",
    "initial_guess = [3,0]\n",
    "W = 'diag'\n",
    "fit1 = pyjack.jackfit(fitfunc,W,initial_guess)\n",
    "fit1.fit(numpy.arange(obs.data.shape[1]),obs,max_iter=1000,tol=1e-8,num_samples=10000)\n",
    "print(fit1.params)\n",
    "fit1.plot()"
   ]
  }
 ],
 "metadata": {
  "kernelspec": {
   "display_name": "Python 3",
   "language": "python",
   "name": "python3"
  },
  "language_info": {
   "codemirror_mode": {
    "name": "ipython",
    "version": 3
   },
   "file_extension": ".py",
   "mimetype": "text/x-python",
   "name": "python",
   "nbconvert_exporter": "python",
   "pygments_lexer": "ipython3",
   "version": "3.9.6"
  }
 },
 "nbformat": 4,
 "nbformat_minor": 5
}
